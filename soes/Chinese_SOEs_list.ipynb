{
  "nbformat": 4,
  "nbformat_minor": 0,
  "metadata": {
    "colab": {
      "name": "Chinese SOEs list",
      "provenance": [],
      "collapsed_sections": []
    },
    "kernelspec": {
      "name": "python3",
      "display_name": "Python 3"
    }
  },
  "cells": [
    {
      "cell_type": "markdown",
      "metadata": {
        "id": "WcLA_Qhmai_b"
      },
      "source": [
        "## Chinese SOEs list\n",
        "\n",
        "- source : [State-owned Assets Supervision and Administration Commission of the State Council](http://en.sasac.gov.cn/n_688.htm)\n",
        "- only works on Google Colab. Do NOT run this script locally; you might lose access to the website\n",
        "\n",
        "### issues\n",
        "- China Silk Corporation is now under Poly Corp. Might not be counted as one SOE, but it is kept in the file as it is in the website(English)\n",
        "- Nokia Bell is in the list in English, not in Chinese. There seems to be no evidence or reports that the Nokia Bell has some relationship with Chinese official"
      ]
    },
    {
      "cell_type": "code",
      "metadata": {
        "id": "4cnqsD2kZngt"
      },
      "source": [
        "import numpy as np\n",
        "from bs4 import BeautifulSoup as bs\n",
        "import time\n",
        "import pandas as pd\n",
        "import requests as rq\n",
        "from google.colab import files"
      ],
      "execution_count": 123,
      "outputs": []
    },
    {
      "cell_type": "code",
      "metadata": {
        "id": "7LeMPhbrZo0A"
      },
      "source": [
        "eng = []\n",
        "link = []\n",
        "\n",
        "req = rq.get('http://en.sasac.gov.cn/n_688.htm').text\n",
        "soup = bs(req,'html.parser')\n",
        "\n",
        "for s in soup.find_all('div',class_=\"lis_t\"):\n",
        "  eng.append(s.text.strip())\n",
        "  link.append(s.find('a').get('href'))\n",
        "\n",
        "pages = int(soup.find('div',id=\"displaypagenum\").find_all('a')[-2].text)\n",
        "\n",
        "for i in range(2,pages+1):\n",
        "  url = 'http://en.sasac.gov.cn/n_688_' + str(i) + '.htm'\n",
        "\n",
        "  req = rq.get(url).text\n",
        "  soup = bs(req,'html.parser')\n",
        "\n",
        "  for s in soup.find_all('div',class_=\"lis_t\"):\n",
        "    eng.append(s.text.strip())\n",
        "    link.append(s.find('a').get('href'))\n",
        "\n",
        "  time.sleep(3)\n",
        "\n",
        "df = pd.DataFrame({'english':eng,'link':link})"
      ],
      "execution_count": 124,
      "outputs": []
    },
    {
      "cell_type": "code",
      "metadata": {
        "colab": {
          "base_uri": "https://localhost:8080/",
          "height": 419
        },
        "id": "afbyCQuuZqBb",
        "outputId": "9a95b646-6af1-4386-9b0e-4427ed83c252"
      },
      "source": [
        "domain = []\n",
        "\n",
        "for i in df.link:\n",
        "  if 'com' in i:\n",
        "    urls = i.split('.')\n",
        "    domain.append(urls[[urls.index(u) for u in urls if u.startswith('com')][0]-1])\n",
        "  elif 'cn' in i:\n",
        "    urls = i.split('.')\n",
        "    domain.append(urls[[urls.index(u) for u in urls if u.startswith('cn')][0]-1])   \n",
        "  else :\n",
        "    domain.append(np.nan)\n",
        "\n",
        "df['domain'] = domain\n",
        "df"
      ],
      "execution_count": 125,
      "outputs": [
        {
          "output_type": "execute_result",
          "data": {
            "text/html": [
              "<div>\n",
              "<style scoped>\n",
              "    .dataframe tbody tr th:only-of-type {\n",
              "        vertical-align: middle;\n",
              "    }\n",
              "\n",
              "    .dataframe tbody tr th {\n",
              "        vertical-align: top;\n",
              "    }\n",
              "\n",
              "    .dataframe thead th {\n",
              "        text-align: right;\n",
              "    }\n",
              "</style>\n",
              "<table border=\"1\" class=\"dataframe\">\n",
              "  <thead>\n",
              "    <tr style=\"text-align: right;\">\n",
              "      <th></th>\n",
              "      <th>english</th>\n",
              "      <th>link</th>\n",
              "      <th>domain</th>\n",
              "    </tr>\n",
              "  </thead>\n",
              "  <tbody>\n",
              "    <tr>\n",
              "      <th>0</th>\n",
              "      <td>China National Nuclear Corporation</td>\n",
              "      <td>http://en.cnnc.com.cn/index.html</td>\n",
              "      <td>cnnc</td>\n",
              "    </tr>\n",
              "    <tr>\n",
              "      <th>1</th>\n",
              "      <td>China Aerospace Science and Technology Corpora...</td>\n",
              "      <td>http://english.spacechina.com/n16421/index.html</td>\n",
              "      <td>spacechina</td>\n",
              "    </tr>\n",
              "    <tr>\n",
              "      <th>2</th>\n",
              "      <td>China Aerospace Science and Industry Corporati...</td>\n",
              "      <td>http://www.casic.com/</td>\n",
              "      <td>casic</td>\n",
              "    </tr>\n",
              "    <tr>\n",
              "      <th>3</th>\n",
              "      <td>Aviation Industry Corporation of China, Ltd</td>\n",
              "      <td>http://www.avic.com/en/aboutus/index.shtml</td>\n",
              "      <td>avic</td>\n",
              "    </tr>\n",
              "    <tr>\n",
              "      <th>4</th>\n",
              "      <td>China North Industries Group Corporation Limit...</td>\n",
              "      <td>http://en.norincogroup.com.cn/</td>\n",
              "      <td>norincogroup</td>\n",
              "    </tr>\n",
              "    <tr>\n",
              "      <th>...</th>\n",
              "      <td>...</td>\n",
              "      <td>...</td>\n",
              "      <td>...</td>\n",
              "    </tr>\n",
              "    <tr>\n",
              "      <th>89</th>\n",
              "      <td>Overseas Chinese City Group</td>\n",
              "      <td>http://www.chinaoct.com/</td>\n",
              "      <td>chinaoct</td>\n",
              "    </tr>\n",
              "    <tr>\n",
              "      <th>90</th>\n",
              "      <td>Nam Kwong (Group) Company Limited</td>\n",
              "      <td>http://www.namkwong.com.mo/en/</td>\n",
              "      <td>namkwong</td>\n",
              "    </tr>\n",
              "    <tr>\n",
              "      <th>91</th>\n",
              "      <td>China XD Group</td>\n",
              "      <td>http://www.xd.com.cn/structure/eng/index.htm</td>\n",
              "      <td>xd</td>\n",
              "    </tr>\n",
              "    <tr>\n",
              "      <th>92</th>\n",
              "      <td>China Railway Materials Company Limited</td>\n",
              "      <td>https://www.crmsc.com.cn/crmscnewEn/index.asp</td>\n",
              "      <td>crmsc</td>\n",
              "    </tr>\n",
              "    <tr>\n",
              "      <th>93</th>\n",
              "      <td>China Reform Holdings Corporation Ltd</td>\n",
              "      <td>http://www.crhc.cn/</td>\n",
              "      <td>crhc</td>\n",
              "    </tr>\n",
              "  </tbody>\n",
              "</table>\n",
              "<p>94 rows × 3 columns</p>\n",
              "</div>"
            ],
            "text/plain": [
              "                                              english  ...        domain\n",
              "0                  China National Nuclear Corporation  ...          cnnc\n",
              "1   China Aerospace Science and Technology Corpora...  ...    spacechina\n",
              "2   China Aerospace Science and Industry Corporati...  ...         casic\n",
              "3         Aviation Industry Corporation of China, Ltd  ...          avic\n",
              "4   China North Industries Group Corporation Limit...  ...  norincogroup\n",
              "..                                                ...  ...           ...\n",
              "89                        Overseas Chinese City Group  ...      chinaoct\n",
              "90                  Nam Kwong (Group) Company Limited  ...      namkwong\n",
              "91                                     China XD Group  ...            xd\n",
              "92            China Railway Materials Company Limited  ...         crmsc\n",
              "93              China Reform Holdings Corporation Ltd  ...          crhc\n",
              "\n",
              "[94 rows x 3 columns]"
            ]
          },
          "metadata": {
            "tags": []
          },
          "execution_count": 125
        }
      ]
    },
    {
      "cell_type": "code",
      "metadata": {
        "colab": {
          "base_uri": "https://localhost:8080/"
        },
        "id": "MkvDAyOihx3f",
        "outputId": "3a49b1c7-59f4-42b6-94dd-05ee0525d6ba"
      },
      "source": [
        "df[df.domain.isna()].english.to_list()"
      ],
      "execution_count": 126,
      "outputs": [
        {
          "output_type": "execute_result",
          "data": {
            "text/plain": [
              "['CRRC Corporation Limited',\n",
              " 'China Information and Communication Technologies Group Corporation (CICT)',\n",
              " 'China TravelSky Holding Company']"
            ]
          },
          "metadata": {
            "tags": []
          },
          "execution_count": 126
        }
      ]
    },
    {
      "cell_type": "code",
      "metadata": {
        "id": "HPyOpuJ4iE3W"
      },
      "source": [
        "df.loc[df.english=='CRRC Corporation Limited','domain'] = 'crrcgc'\n",
        "df.loc[df.english=='China Information and Communication Technologies Group Corporation (CICT)','domain'] = 'cict'\n",
        "df.loc[df.english=='China TravelSky Holding Company','domain'] = 'travelsky'"
      ],
      "execution_count": 127,
      "outputs": []
    },
    {
      "cell_type": "code",
      "metadata": {
        "id": "BQMfhjIbxfbH"
      },
      "source": [
        "df.loc[df.english=='China Telecommunications Corporation','domain'] = 'chinatelecom'\n",
        "df.loc[df.english=='China Mobile Communications Group Co Ltd','domain'] = '10086'\n",
        "df.loc[df.english=='Commercial Aircraft Corporation of China, Ltd','domain'] = 'comac'\n",
        "df.loc[df.english=='China National Chemical Engineering Group Corporation','domain'] = 'cncec'\n",
        "df.loc[df.english=='China Energy Conservation and Environmental Protection Group','domain'] = 'cecep'\n",
        "df.loc[df.english=='China Energy Corporation','domain'] = 'ceic'"
      ],
      "execution_count": 128,
      "outputs": []
    },
    {
      "cell_type": "code",
      "metadata": {
        "id": "NrMDzRD1Zq4g"
      },
      "source": [
        "req = rq.get('http://www.sasac.gov.cn/n2588035/n2641579/n2641645/index.html').content\n",
        "soup = bs(req,'lxml')"
      ],
      "execution_count": 129,
      "outputs": []
    },
    {
      "cell_type": "code",
      "metadata": {
        "id": "2knvyPO2jJBm"
      },
      "source": [
        "chinese = []\n",
        "link_cn = []\n",
        "\n",
        "for i in soup.find_all('td',{'bgcolor':\"#f0f0f0\"}):\n",
        "  chinese.append(i.text.strip())\n",
        "  try :\n",
        "    link_cn.append(i.find('a').get('href'))\n",
        "  except:\n",
        "    link_cn.append(np.nan)\n",
        "\n",
        "df2 = pd.DataFrame({'chinese':chinese,'link_cn':link_cn})"
      ],
      "execution_count": 130,
      "outputs": []
    },
    {
      "cell_type": "code",
      "metadata": {
        "colab": {
          "base_uri": "https://localhost:8080/",
          "height": 111
        },
        "id": "_UhA0Ahjfq_3",
        "outputId": "09996083-438c-4338-9493-a18aeacc045d"
      },
      "source": [
        "df2[df2.link_cn.isna()]"
      ],
      "execution_count": 131,
      "outputs": [
        {
          "output_type": "execute_result",
          "data": {
            "text/html": [
              "<div>\n",
              "<style scoped>\n",
              "    .dataframe tbody tr th:only-of-type {\n",
              "        vertical-align: middle;\n",
              "    }\n",
              "\n",
              "    .dataframe tbody tr th {\n",
              "        vertical-align: top;\n",
              "    }\n",
              "\n",
              "    .dataframe thead th {\n",
              "        text-align: right;\n",
              "    }\n",
              "</style>\n",
              "<table border=\"1\" class=\"dataframe\">\n",
              "  <thead>\n",
              "    <tr style=\"text-align: right;\">\n",
              "      <th></th>\n",
              "      <th>chinese</th>\n",
              "      <th>link_cn</th>\n",
              "    </tr>\n",
              "  </thead>\n",
              "  <tbody>\n",
              "    <tr>\n",
              "      <th>18</th>\n",
              "      <td>中国融通资产管理集团有限公司</td>\n",
              "      <td>NaN</td>\n",
              "    </tr>\n",
              "    <tr>\n",
              "      <th>77</th>\n",
              "      <td>中国安能建设集团有限公司</td>\n",
              "      <td>None</td>\n",
              "    </tr>\n",
              "  </tbody>\n",
              "</table>\n",
              "</div>"
            ],
            "text/plain": [
              "           chinese link_cn\n",
              "18  中国融通资产管理集团有限公司     NaN\n",
              "77    中国安能建设集团有限公司    None"
            ]
          },
          "metadata": {
            "tags": []
          },
          "execution_count": 131
        }
      ]
    },
    {
      "cell_type": "code",
      "metadata": {
        "colab": {
          "base_uri": "https://localhost:8080/",
          "height": 419
        },
        "id": "15l_yvqOdMq9",
        "outputId": "94045fc5-28ad-44b2-dfa1-0acfbcbff1ed"
      },
      "source": [
        "domain = []\n",
        "\n",
        "for i in df2.link_cn:\n",
        "  if i is None:\n",
        "    domain.append(np.nan)\n",
        "  elif i is np.nan:\n",
        "    domain.append(np.nan)\n",
        "  elif 'com' in i:\n",
        "    urls = i.split('.')\n",
        "    domain.append(urls[[urls.index(u) for u in urls if u.startswith('com')][0]-1])\n",
        "  elif 'cn' in i:\n",
        "    urls = i.split('.')\n",
        "    domain.append(urls[[urls.index(u) for u in urls if u.startswith('cn')][0]-1])  \n",
        "  elif 'cc' in i:\n",
        "    urls = i.split('.')\n",
        "    domain.append(urls[[urls.index(u) for u in urls if u.startswith('cc')][0]-1])  \n",
        "  else :\n",
        "    domain.append(np.nan)\n",
        "\n",
        "df2['domain'] = domain\n",
        "df2"
      ],
      "execution_count": 132,
      "outputs": [
        {
          "output_type": "execute_result",
          "data": {
            "text/html": [
              "<div>\n",
              "<style scoped>\n",
              "    .dataframe tbody tr th:only-of-type {\n",
              "        vertical-align: middle;\n",
              "    }\n",
              "\n",
              "    .dataframe tbody tr th {\n",
              "        vertical-align: top;\n",
              "    }\n",
              "\n",
              "    .dataframe thead th {\n",
              "        text-align: right;\n",
              "    }\n",
              "</style>\n",
              "<table border=\"1\" class=\"dataframe\">\n",
              "  <thead>\n",
              "    <tr style=\"text-align: right;\">\n",
              "      <th></th>\n",
              "      <th>chinese</th>\n",
              "      <th>link_cn</th>\n",
              "      <th>domain</th>\n",
              "    </tr>\n",
              "  </thead>\n",
              "  <tbody>\n",
              "    <tr>\n",
              "      <th>0</th>\n",
              "      <td>中国核工业集团有限公司</td>\n",
              "      <td>http://www.cnnc.com.cn/</td>\n",
              "      <td>cnnc</td>\n",
              "    </tr>\n",
              "    <tr>\n",
              "      <th>1</th>\n",
              "      <td>中国商用飞机有限责任公司</td>\n",
              "      <td>http://www.comac.cc/</td>\n",
              "      <td>http://www</td>\n",
              "    </tr>\n",
              "    <tr>\n",
              "      <th>2</th>\n",
              "      <td>中国航天科技集团有限公司</td>\n",
              "      <td>http://www.spacechina.com/</td>\n",
              "      <td>spacechina</td>\n",
              "    </tr>\n",
              "    <tr>\n",
              "      <th>3</th>\n",
              "      <td>中国节能环保集团有限公司</td>\n",
              "      <td>http://www.cecep.cn</td>\n",
              "      <td>cecep</td>\n",
              "    </tr>\n",
              "    <tr>\n",
              "      <th>4</th>\n",
              "      <td>中国航天科工集团有限公司</td>\n",
              "      <td>http://www.casic.com.cn/</td>\n",
              "      <td>casic</td>\n",
              "    </tr>\n",
              "    <tr>\n",
              "      <th>...</th>\n",
              "      <td>...</td>\n",
              "      <td>...</td>\n",
              "      <td>...</td>\n",
              "    </tr>\n",
              "    <tr>\n",
              "      <th>92</th>\n",
              "      <td>招商局集团有限公司</td>\n",
              "      <td>http://www.cmhk.com/</td>\n",
              "      <td>cmhk</td>\n",
              "    </tr>\n",
              "    <tr>\n",
              "      <th>93</th>\n",
              "      <td>中国国新控股有限责任公司</td>\n",
              "      <td>http://www.crhc.cn/</td>\n",
              "      <td>crhc</td>\n",
              "    </tr>\n",
              "    <tr>\n",
              "      <th>94</th>\n",
              "      <td>华润（集团）有限公司</td>\n",
              "      <td>http://www.crc.com.hk/</td>\n",
              "      <td>crc</td>\n",
              "    </tr>\n",
              "    <tr>\n",
              "      <th>95</th>\n",
              "      <td>中国检验认证（集团）有限公司</td>\n",
              "      <td>http://www.ccic.com/</td>\n",
              "      <td>ccic</td>\n",
              "    </tr>\n",
              "    <tr>\n",
              "      <th>96</th>\n",
              "      <td>中国旅游集团有限公司[香港中旅（集团）有限公司]</td>\n",
              "      <td>http://www.hkcts.com/</td>\n",
              "      <td>hkcts</td>\n",
              "    </tr>\n",
              "  </tbody>\n",
              "</table>\n",
              "<p>97 rows × 3 columns</p>\n",
              "</div>"
            ],
            "text/plain": [
              "                     chinese                     link_cn      domain\n",
              "0                中国核工业集团有限公司     http://www.cnnc.com.cn/        cnnc\n",
              "1               中国商用飞机有限责任公司        http://www.comac.cc/  http://www\n",
              "2               中国航天科技集团有限公司  http://www.spacechina.com/  spacechina\n",
              "3               中国节能环保集团有限公司         http://www.cecep.cn       cecep\n",
              "4               中国航天科工集团有限公司    http://www.casic.com.cn/       casic\n",
              "..                       ...                         ...         ...\n",
              "92                 招商局集团有限公司        http://www.cmhk.com/        cmhk\n",
              "93              中国国新控股有限责任公司         http://www.crhc.cn/        crhc\n",
              "94                华润（集团）有限公司      http://www.crc.com.hk/         crc\n",
              "95            中国检验认证（集团）有限公司        http://www.ccic.com/        ccic\n",
              "96  中国旅游集团有限公司[香港中旅（集团）有限公司]       http://www.hkcts.com/       hkcts\n",
              "\n",
              "[97 rows x 3 columns]"
            ]
          },
          "metadata": {
            "tags": []
          },
          "execution_count": 132
        }
      ]
    },
    {
      "cell_type": "code",
      "metadata": {
        "colab": {
          "base_uri": "https://localhost:8080/",
          "height": 111
        },
        "id": "bLwnXmU2bKd3",
        "outputId": "36cdc238-6570-42e2-e7dc-af2d5e4ea072"
      },
      "source": [
        "df2[df2.domain.isna()]"
      ],
      "execution_count": 133,
      "outputs": [
        {
          "output_type": "execute_result",
          "data": {
            "text/html": [
              "<div>\n",
              "<style scoped>\n",
              "    .dataframe tbody tr th:only-of-type {\n",
              "        vertical-align: middle;\n",
              "    }\n",
              "\n",
              "    .dataframe tbody tr th {\n",
              "        vertical-align: top;\n",
              "    }\n",
              "\n",
              "    .dataframe thead th {\n",
              "        text-align: right;\n",
              "    }\n",
              "</style>\n",
              "<table border=\"1\" class=\"dataframe\">\n",
              "  <thead>\n",
              "    <tr style=\"text-align: right;\">\n",
              "      <th></th>\n",
              "      <th>chinese</th>\n",
              "      <th>link_cn</th>\n",
              "      <th>domain</th>\n",
              "    </tr>\n",
              "  </thead>\n",
              "  <tbody>\n",
              "    <tr>\n",
              "      <th>18</th>\n",
              "      <td>中国融通资产管理集团有限公司</td>\n",
              "      <td>NaN</td>\n",
              "      <td>NaN</td>\n",
              "    </tr>\n",
              "    <tr>\n",
              "      <th>77</th>\n",
              "      <td>中国安能建设集团有限公司</td>\n",
              "      <td>None</td>\n",
              "      <td>NaN</td>\n",
              "    </tr>\n",
              "  </tbody>\n",
              "</table>\n",
              "</div>"
            ],
            "text/plain": [
              "           chinese link_cn domain\n",
              "18  中国融通资产管理集团有限公司     NaN    NaN\n",
              "77    中国安能建设集团有限公司    None    NaN"
            ]
          },
          "metadata": {
            "tags": []
          },
          "execution_count": 133
        }
      ]
    },
    {
      "cell_type": "code",
      "metadata": {
        "id": "tBl4ghgXcAec"
      },
      "source": [
        "df2.loc[df2.chinese=='中国化学工程集团有限公司','domain'] = 'cncec'\n",
        "df2.loc[df2.chinese=='中国商用飞机有限责任公司','domain'] = 'comac'"
      ],
      "execution_count": 134,
      "outputs": []
    },
    {
      "cell_type": "code",
      "metadata": {
        "id": "zLAwwhvNG-ZT"
      },
      "source": [
        "seo = pd.merge(df, df2, on='domain', how='outer')"
      ],
      "execution_count": 135,
      "outputs": []
    },
    {
      "cell_type": "code",
      "metadata": {
        "id": "j4OOOITGHCMH"
      },
      "source": [
        "seo.loc[seo.chinese=='中国船舶集团有限公司','english'] = 'China State Shipbuilding Co Ltd'\n",
        "seo.loc[seo.chinese=='国家石油天然气管网集团有限公司','english'] = 'China Oil & Gas Pipeline Network Corporation(PipeChina)'\n",
        "seo.loc[seo.chinese=='中国检验认证（集团）有限公司','english'] = 'China Certification & Inspection Group (CCIC)'"
      ],
      "execution_count": 136,
      "outputs": []
    },
    {
      "cell_type": "code",
      "metadata": {
        "colab": {
          "base_uri": "https://localhost:8080/",
          "height": 17
        },
        "id": "uHqoIg9xwqYF",
        "outputId": "e3dd7376-7571-491b-f47a-43b7292434b6"
      },
      "source": [
        "seo.to_csv('china_ceos.csv',encoding='utf-8-sig')\n",
        "files.download('china_ceos.csv')"
      ],
      "execution_count": 137,
      "outputs": [
        {
          "output_type": "display_data",
          "data": {
            "application/javascript": [
              "\n",
              "    async function download(id, filename, size) {\n",
              "      if (!google.colab.kernel.accessAllowed) {\n",
              "        return;\n",
              "      }\n",
              "      const div = document.createElement('div');\n",
              "      const label = document.createElement('label');\n",
              "      label.textContent = `Downloading \"${filename}\": `;\n",
              "      div.appendChild(label);\n",
              "      const progress = document.createElement('progress');\n",
              "      progress.max = size;\n",
              "      div.appendChild(progress);\n",
              "      document.body.appendChild(div);\n",
              "\n",
              "      const buffers = [];\n",
              "      let downloaded = 0;\n",
              "\n",
              "      const channel = await google.colab.kernel.comms.open(id);\n",
              "      // Send a message to notify the kernel that we're ready.\n",
              "      channel.send({})\n",
              "\n",
              "      for await (const message of channel.messages) {\n",
              "        // Send a message to notify the kernel that we're ready.\n",
              "        channel.send({})\n",
              "        if (message.buffers) {\n",
              "          for (const buffer of message.buffers) {\n",
              "            buffers.push(buffer);\n",
              "            downloaded += buffer.byteLength;\n",
              "            progress.value = downloaded;\n",
              "          }\n",
              "        }\n",
              "      }\n",
              "      const blob = new Blob(buffers, {type: 'application/binary'});\n",
              "      const a = document.createElement('a');\n",
              "      a.href = window.URL.createObjectURL(blob);\n",
              "      a.download = filename;\n",
              "      div.appendChild(a);\n",
              "      a.click();\n",
              "      div.remove();\n",
              "    }\n",
              "  "
            ],
            "text/plain": [
              "<IPython.core.display.Javascript object>"
            ]
          },
          "metadata": {
            "tags": []
          }
        },
        {
          "output_type": "display_data",
          "data": {
            "application/javascript": [
              "download(\"download_9162f3ba-21fa-4373-8345-d3e467923988\", \"china_ceos.csv\", 13678)"
            ],
            "text/plain": [
              "<IPython.core.display.Javascript object>"
            ]
          },
          "metadata": {
            "tags": []
          }
        }
      ]
    }
  ]
}